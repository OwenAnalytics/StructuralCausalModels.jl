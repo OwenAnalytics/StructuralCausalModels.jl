{
 "cells": [
  {
   "cell_type": "code",
   "execution_count": 1,
   "metadata": {},
   "outputs": [
    {
     "name": "stderr",
     "output_type": "stream",
     "text": [
      "┌ Info: Precompiling StructuralCausalModels [a41e6734-49ce-4065-8b83-aff084c01dfd]\n",
      "└ @ Base loading.jl:1278\n"
     ]
    }
   ],
   "source": [
    "using StructuralCausalModels, Test"
   ]
  },
  {
   "cell_type": "code",
   "execution_count": 2,
   "metadata": {},
   "outputs": [],
   "source": [
    "ProjDir = scm_path(\"..\")\n",
    "cd(ProjDir) #do"
   ]
  },
  {
   "cell_type": "code",
   "execution_count": 3,
   "metadata": {},
   "outputs": [
    {
     "data": {
      "text/plain": [
       "\"/Users/rob/.julia/dev/StructuralCausalModels/\""
      ]
     },
     "execution_count": 3,
     "metadata": {},
     "output_type": "execute_result"
    }
   ],
   "source": [
    "ProjDir"
   ]
  },
  {
   "cell_type": "code",
   "execution_count": 4,
   "metadata": {},
   "outputs": [],
   "source": [
    "fname = scm_path(\"..\", \"examples\", \"Shipley\", \"fig2.6\", \"fig2.6.dot\")\n",
    "Sys.isapple() && run(`open -a GraphViz.app $(fname)`);"
   ]
  },
  {
   "cell_type": "code",
   "execution_count": 5,
   "metadata": {},
   "outputs": [],
   "source": [
    "# Read `=>` as `~` in regression models, or `<-` in causal models.\n",
    "d = OrderedDict(\n",
    "  :u => [:x, :v],\n",
    "  :s1 => [:u],\n",
    "  :w => [:v, :y],\n",
    "  :s2 => [:w]\n",
    ");"
   ]
  },
  {
   "cell_type": "code",
   "execution_count": 6,
   "metadata": {},
   "outputs": [],
   "source": [
    "dag = DAG(\"fig2.6\", d);"
   ]
  },
  {
   "cell_type": "code",
   "execution_count": 7,
   "metadata": {},
   "outputs": [
    {
     "data": {
      "text/plain": [
       "7×7 Named Array{Int64,2}\n",
       "Cols ╲ Rows │  :u   :x   :v  :s1   :w   :y  :s2\n",
       "────────────┼──────────────────────────────────\n",
       ":u          │   0    1    1    0    0    0    0\n",
       ":x          │   0    0    0    0    0    0    0\n",
       ":v          │   0    0    0    0    0    0    0\n",
       ":s1         │   1    0    0    0    0    0    0\n",
       ":w          │   0    0    1    0    0    1    0\n",
       ":y          │   0    0    0    0    0    0    0\n",
       ":s2         │   0    0    0    0    1    0    0"
      ]
     },
     "execution_count": 7,
     "metadata": {},
     "output_type": "execute_result"
    }
   ],
   "source": [
    "dag.a"
   ]
  },
  {
   "cell_type": "code",
   "execution_count": 8,
   "metadata": {},
   "outputs": [
    {
     "data": {
      "text/plain": [
       "true"
      ]
     },
     "execution_count": 8,
     "metadata": {},
     "output_type": "execute_result"
    }
   ],
   "source": [
    "to_ggm(dag) == \"DAG(u ~ x + v, s1 ~ u, w ~ v + y, s2 ~ w)\""
   ]
  },
  {
   "cell_type": "code",
   "execution_count": 9,
   "metadata": {},
   "outputs": [
    {
     "data": {
      "text/plain": [
       "true"
      ]
     },
     "execution_count": 9,
     "metadata": {},
     "output_type": "execute_result"
    }
   ],
   "source": [
    "d_separation(dag, :x, :v)"
   ]
  },
  {
   "cell_type": "code",
   "execution_count": 15,
   "metadata": {},
   "outputs": [
    {
     "data": {
      "text/plain": [
       "true"
      ]
     },
     "execution_count": 15,
     "metadata": {},
     "output_type": "execute_result"
    }
   ],
   "source": [
    "m_separation(dag, :x, :v)"
   ]
  },
  {
   "cell_type": "code",
   "execution_count": 14,
   "metadata": {},
   "outputs": [
    {
     "name": "stdout",
     "output_type": "stream",
     "text": [
      "\u001b[37m\u001b[1mTest Summary:   | \u001b[22m\u001b[39m\u001b[32m\u001b[1mPass  \u001b[22m\u001b[39m\u001b[36m\u001b[1mTotal\u001b[22m\u001b[39m\n",
      "m_separation_02 | \u001b[32m  12  \u001b[39m\u001b[36m   12\u001b[39m\n"
     ]
    }
   ],
   "source": [
    "@testset \"m_separation_02\" begin\n",
    "  \n",
    "  @test to_ggm(dag) == \"DAG(u ~ x + v, s1 ~ u, w ~ v + y, s2 ~ w)\"\n",
    "  @test m_separation(dag, :x, :v; debug=false) == true\n",
    "  @test m_separation(dag, :x, [:v]; c=:u, debug=false) == false\n",
    "  @test m_separation(dag, [:x], :v; c=:s1, debug=false) == false\n",
    "  @test m_separation(dag, [:u], [:w]; debug=false) == false\n",
    "  @test m_separation(dag, :u, [:w]; c=:v, debug=false) == true\n",
    "\n",
    "  @test m_separation(dag, [:x], :y) == true\n",
    "  @test m_separation(dag, :x, :y; c=[:u, :w], debug=false) == false\n",
    "  @test m_separation(dag, :x, :y; c=[:s1, :s2], debug=false) == false\n",
    "  @test m_separation(dag, :x, :y; c=[:u, :v, :w], debug=false) == true\n",
    "  @test m_separation(dag, :x, [:v]; c=:u, debug=false) == false\n",
    "  @test m_separation(dag, [:x], :v; c=:s1, debug=false) == false;\n",
    "\n",
    "end;"
   ]
  },
  {
   "cell_type": "code",
   "execution_count": null,
   "metadata": {},
   "outputs": [],
   "source": []
  }
 ],
 "metadata": {
  "@webio": {
   "lastCommId": null,
   "lastKernelId": null
  },
  "kernelspec": {
   "display_name": "Julia 1.5",
   "language": "julia",
   "name": "julia-1.5"
  },
  "language_info": {
   "file_extension": ".jl",
   "mimetype": "application/julia",
   "name": "julia",
   "version": "1.5.0"
  }
 },
 "nbformat": 4,
 "nbformat_minor": 2
}
